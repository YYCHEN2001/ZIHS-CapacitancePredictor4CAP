{
 "cells": [
  {
   "metadata": {},
   "cell_type": "markdown",
   "source": "# 特征选择",
   "id": "a92c2ea60b1f0322"
  },
  {
   "cell_type": "code",
   "id": "initial_id",
   "metadata": {
    "collapsed": true,
    "ExecuteTime": {
     "end_time": "2024-04-16T10:24:24.870402Z",
     "start_time": "2024-04-16T10:24:24.848286Z"
    }
   },
   "source": [
    "import pandas as pd\n",
    "import numpy as np\n",
    "from sklearn.model_selection import train_test_split\n",
    "from sklearn.feature_selection import RFECV\n",
    "from sklearn.linear_model import LassoCV\n",
    "from sklearn.ensemble import GradientBoostingRegressor\n",
    "from sklearn.preprocessing import StandardScaler\n",
    "from sklearn.pipeline import Pipeline\n",
    "from tabulate import tabulate\n",
    "\n",
    "# 加载数据集\n",
    "data = pd.read_csv('../data/raw/cleaned_data_after_mvp.csv')\n",
    "data = data.drop('Index', axis=1)\n",
    "data_encoded = pd.get_dummies(data, columns=['Electrolyte', 'Current collector'])\n",
    "\n",
    "data_encoded['target_class'] = pd.qcut(data_encoded['target'], q=10, labels=False)\n",
    "\n",
    "X = data_encoded.drop(['target', 'target_class'], axis=1)\n",
    "y = data_encoded['target']\n",
    "stratify_column = data_encoded['target_class']\n",
    "\n",
    "# Scale the features\n",
    "scaler = StandardScaler()\n",
    "X_scaled = scaler.fit_transform(X)\n",
    "\n",
    "# 拆分训练和测试集\n",
    "X_train, X_test, y_train, y_test = train_test_split(X, y, test_size=0.3, random_state=21, stratify=stratify_column)"
   ],
   "outputs": [],
   "execution_count": 12
  },
  {
   "metadata": {},
   "cell_type": "markdown",
   "source": "## Lasso回归",
   "id": "c63236d2ba99805e"
  },
  {
   "metadata": {
    "ExecuteTime": {
     "end_time": "2024-04-16T10:24:28.645218Z",
     "start_time": "2024-04-16T10:24:28.416395Z"
    }
   },
   "cell_type": "code",
   "source": [
    "# Lasso回归\n",
    "lasso = LassoCV(cv=10, random_state=21).fit(X_train, y_train)\n",
    "lasso_importance = np.abs(lasso.coef_)"
   ],
   "id": "b0b629ebbccdeb84",
   "outputs": [],
   "execution_count": 13
  },
  {
   "metadata": {},
   "cell_type": "markdown",
   "source": "## 梯度提升机特征重要性",
   "id": "d21fd6c71fafaa36"
  },
  {
   "metadata": {
    "ExecuteTime": {
     "end_time": "2024-04-16T10:24:30.725996Z",
     "start_time": "2024-04-16T10:24:30.656880Z"
    }
   },
   "cell_type": "code",
   "source": [
    "gbm = GradientBoostingRegressor(n_estimators=100, random_state=21).fit(X_train, y_train)\n",
    "gbm_importance = gbm.feature_importances_"
   ],
   "id": "7ac2a2c82349a6e7",
   "outputs": [],
   "execution_count": 14
  },
  {
   "metadata": {},
   "cell_type": "markdown",
   "source": "## RFE递归特征消除",
   "id": "697f8e9c59e2b683"
  },
  {
   "metadata": {
    "ExecuteTime": {
     "end_time": "2024-04-16T10:24:46.414060Z",
     "start_time": "2024-04-16T10:24:32.807733Z"
    }
   },
   "cell_type": "code",
   "source": [
    "# RFE\n",
    "rfe = RFECV(estimator=GradientBoostingRegressor(n_estimators=100, random_state=21), step=1, cv=10)\n",
    "rfe.fit(X_train, y_train)\n",
    "rfe_importance = rfe.ranking_"
   ],
   "id": "792cc250fa97e442",
   "outputs": [],
   "execution_count": 15
  },
  {
   "metadata": {
    "ExecuteTime": {
     "end_time": "2024-04-16T10:24:48.846489Z",
     "start_time": "2024-04-16T10:24:48.841805Z"
    }
   },
   "cell_type": "code",
   "source": [
    "# 创建特征重要性 DataFrame\n",
    "features = X.columns\n",
    "results_df = pd.DataFrame({\n",
    "    'Feature': features,\n",
    "    'GBM Importance': gbm_importance,\n",
    "    'RFE Ranking': rfe_importance,\n",
    "    'Lasso Importance': lasso_importance\n",
    "})\n",
    "\n",
    "# 排序特征\n",
    "results_df = results_df.sort_values(by='GBM Importance', ascending=False).reset_index(drop=True)"
   ],
   "id": "55e140422959cfef",
   "outputs": [],
   "execution_count": 16
  },
  {
   "metadata": {},
   "cell_type": "markdown",
   "source": "## 打印结果",
   "id": "3385532a7677a0a2"
  },
  {
   "metadata": {
    "ExecuteTime": {
     "end_time": "2024-04-16T10:24:52.006322Z",
     "start_time": "2024-04-16T10:24:51.998406Z"
    }
   },
   "cell_type": "code",
   "source": [
    "# 打印结果\n",
    "print(\"Feature Importance:\")\n",
    "print(tabulate(results_df, headers='keys', tablefmt='pipe', showindex=False))\n",
    "\n",
    "# 保存为 Markdown 文件\n",
    "markdown_content = \"### Feature Importance\\n\" + tabulate(results_df, headers='keys', tablefmt='pipe', showindex=False)\n",
    "with open('../reports/feature_engineering/feature_selection.md', 'w') as md_file:\n",
    "    md_file.write(markdown_content)"
   ],
   "id": "cad03ee83a6a2b5f",
   "outputs": [
    {
     "name": "stdout",
     "output_type": "stream",
     "text": [
      "Feature Importance:\n",
      "| Feature                                |   GBM Importance |   RFE Ranking |   Lasso Importance |\n",
      "|:---------------------------------------|-----------------:|--------------:|-------------------:|\n",
      "| Current density                        |      0.268715    |             1 |          0.544614  |\n",
      "| Specific surface area                  |      0.240809    |             1 |          0.0204549 |\n",
      "| N                                      |      0.116365    |             1 |          2.35257   |\n",
      "| Active mass loading                    |      0.102371    |             1 |          0         |\n",
      "| Pore volume                            |      0.0818256   |             1 |          0         |\n",
      "| O                                      |      0.0770964   |             1 |          0         |\n",
      "| Rmic/mes                               |      0.0654372   |             1 |          0         |\n",
      "| ID/IG                                  |      0.0276997   |             1 |          0         |\n",
      "| Current collector_nickel foam          |      0.0047486   |             1 |          0         |\n",
      "| Current collector_stainless-steel mesh |      0.00411284  |             1 |          0         |\n",
      "| Potential window                       |      0.00277981  |             1 |          0         |\n",
      "| Current collector_freestanding         |      0.00245389  |             1 |          0         |\n",
      "| P                                      |      0.00142375  |             1 |          0         |\n",
      "| B                                      |      0.00129789  |             1 |          0         |\n",
      "| Current collector_carbon cloth         |      0.00101287  |             1 |          0         |\n",
      "| Current collector_Titanium foil        |      0.000615004 |             1 |          0         |\n",
      "| Electrolyte_1M ZnSO4                   |      0.000571513 |             2 |          0         |\n",
      "| Electrolyte_1M Zn(CF3SO3)2             |      0.000302631 |             1 |          0         |\n",
      "| Electrolyte_2M ZnSO4                   |      0.000187302 |             3 |          0         |\n",
      "| S                                      |      0.000109186 |             4 |          0         |\n",
      "| Electrolyte_3M Zn(CF3SO3)2             |      5.44028e-05 |             5 |          0         |\n",
      "| Current collector_stainless steel      |      1.08873e-05 |             6 |          0         |\n",
      "| Current collector_Nickel foam          |      0           |             8 |          0         |\n",
      "| Current collector_graphite paper       |      0           |             9 |          0         |\n",
      "| Current collector_stainless-steel foil |      0           |             7 |          0         |\n"
     ]
    }
   ],
   "execution_count": 17
  },
  {
   "metadata": {},
   "cell_type": "code",
   "outputs": [],
   "execution_count": null,
   "source": "",
   "id": "8219d5a00aed3a67"
  }
 ],
 "metadata": {
  "kernelspec": {
   "display_name": "sklearn-env",
   "language": "python",
   "name": "sklearn-env"
  },
  "language_info": {
   "codemirror_mode": {
    "name": "ipython",
    "version": 2
   },
   "file_extension": ".py",
   "mimetype": "text/x-python",
   "name": "python",
   "nbconvert_exporter": "python",
   "pygments_lexer": "ipython2",
   "version": "2.7.6"
  }
 },
 "nbformat": 4,
 "nbformat_minor": 5
}
