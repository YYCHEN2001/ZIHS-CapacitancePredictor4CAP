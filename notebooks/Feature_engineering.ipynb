{
 "cells": [
  {
   "metadata": {},
   "cell_type": "markdown",
   "source": "# 特征选择",
   "id": "a92c2ea60b1f0322"
  },
  {
   "cell_type": "code",
   "id": "initial_id",
   "metadata": {
    "collapsed": true,
    "ExecuteTime": {
     "end_time": "2024-04-19T07:21:11.839531Z",
     "start_time": "2024-04-19T07:21:10.478621Z"
    }
   },
   "source": [
    "import pandas as pd\n",
    "import numpy as np\n",
    "from sklearn.model_selection import train_test_split\n",
    "from sklearn.feature_selection import RFECV\n",
    "from sklearn.linear_model import LassoCV\n",
    "from sklearn.ensemble import GradientBoostingRegressor\n",
    "from sklearn.preprocessing import StandardScaler\n",
    "from sklearn.pipeline import Pipeline\n",
    "from tabulate import tabulate\n",
    "\n",
    "# 加载数据集\n",
    "data = pd.read_csv('../data/raw/cleaned_data_after_mvp.csv')\n",
    "data = data.drop('Index', axis=1)\n",
    "data_encoded = pd.get_dummies(data, columns=['Electrolyte', 'Current collector'])\n",
    "\n",
    "data_encoded['target_class'] = pd.qcut(data_encoded['target'], q=10, labels=False)\n",
    "\n",
    "X = data_encoded.drop(['target', 'target_class'], axis=1)\n",
    "y = data_encoded['target']\n",
    "stratify_column = data_encoded['target_class']\n",
    "\n",
    "# Scale the features\n",
    "scaler = StandardScaler()\n",
    "X_scaled = scaler.fit_transform(X)\n",
    "\n",
    "# 拆分训练和测试集\n",
    "X_train, X_test, y_train, y_test = train_test_split(X, y, test_size=0.3, random_state=21, stratify=stratify_column)"
   ],
   "outputs": [],
   "execution_count": 2
  },
  {
   "metadata": {},
   "cell_type": "markdown",
   "source": "## Lasso回归",
   "id": "c63236d2ba99805e"
  },
  {
   "metadata": {
    "ExecuteTime": {
     "end_time": "2024-04-19T07:21:11.935499Z",
     "start_time": "2024-04-19T07:21:11.840534Z"
    }
   },
   "cell_type": "code",
   "source": [
    "# Lasso回归\n",
    "lasso = LassoCV(cv=10, random_state=21).fit(X_train, y_train)\n",
    "lasso_importance = np.abs(lasso.coef_)"
   ],
   "id": "b0b629ebbccdeb84",
   "outputs": [],
   "execution_count": 3
  },
  {
   "metadata": {},
   "cell_type": "markdown",
   "source": "## 梯度提升机特征重要性",
   "id": "d21fd6c71fafaa36"
  },
  {
   "metadata": {
    "ExecuteTime": {
     "end_time": "2024-04-19T07:21:12.023601Z",
     "start_time": "2024-04-19T07:21:11.936499Z"
    }
   },
   "cell_type": "code",
   "source": [
    "gbm = GradientBoostingRegressor(n_estimators=100, random_state=21).fit(X_train, y_train)\n",
    "gbm_importance = gbm.feature_importances_"
   ],
   "id": "7ac2a2c82349a6e7",
   "outputs": [],
   "execution_count": 4
  },
  {
   "metadata": {},
   "cell_type": "markdown",
   "source": "## RFE递归特征消除",
   "id": "697f8e9c59e2b683"
  },
  {
   "metadata": {
    "ExecuteTime": {
     "end_time": "2024-04-19T07:21:29.175512Z",
     "start_time": "2024-04-19T07:21:12.024601Z"
    }
   },
   "cell_type": "code",
   "source": [
    "# RFE\n",
    "rfe = RFECV(estimator=GradientBoostingRegressor(n_estimators=100, random_state=21), step=1, cv=10)\n",
    "rfe.fit(X_train, y_train)\n",
    "rfe_importance = rfe.ranking_"
   ],
   "id": "792cc250fa97e442",
   "outputs": [],
   "execution_count": 5
  },
  {
   "metadata": {
    "ExecuteTime": {
     "end_time": "2024-04-19T07:21:29.181117Z",
     "start_time": "2024-04-19T07:21:29.175512Z"
    }
   },
   "cell_type": "code",
   "source": [
    "# 创建特征重要性 DataFrame\n",
    "features = X.columns\n",
    "results_df = pd.DataFrame({\n",
    "    'Feature': features,\n",
    "    'GBM Importance': gbm_importance,\n",
    "    'RFE Ranking': rfe_importance,\n",
    "    'Lasso Importance': lasso_importance\n",
    "})\n",
    "\n",
    "# 排序特征\n",
    "results_df = results_df.sort_values(by='GBM Importance', ascending=False).reset_index(drop=True)"
   ],
   "id": "55e140422959cfef",
   "outputs": [],
   "execution_count": 6
  },
  {
   "metadata": {},
   "cell_type": "markdown",
   "source": "## 打印结果",
   "id": "3385532a7677a0a2"
  },
  {
   "metadata": {
    "ExecuteTime": {
     "end_time": "2024-04-19T07:21:29.192078Z",
     "start_time": "2024-04-19T07:21:29.182117Z"
    }
   },
   "cell_type": "code",
   "source": [
    "# 打印结果\n",
    "print(\"Feature Importance:\")\n",
    "print(tabulate(results_df, headers='keys', tablefmt='pipe', showindex=False))\n",
    "\n",
    "# 保存为 Markdown 文件\n",
    "markdown_content = \"### Feature Importance\\n\" + tabulate(results_df, headers='keys', tablefmt='pipe', showindex=False)\n",
    "with open('../reports/feature_engineering/feature_selection.md', 'w') as md_file:\n",
    "    md_file.write(markdown_content)"
   ],
   "id": "cad03ee83a6a2b5f",
   "outputs": [
    {
     "name": "stdout",
     "output_type": "stream",
     "text": [
      "Feature Importance:\n",
      "| Feature                                |   GBM Importance |   RFE Ranking |   Lasso Importance |\n",
      "|:---------------------------------------|-----------------:|--------------:|-------------------:|\n",
      "| Current density                        |      0.268715    |             1 |          0.544614  |\n",
      "| Specific surface area                  |      0.240809    |             1 |          0.0204549 |\n",
      "| N                                      |      0.116365    |             1 |          2.35257   |\n",
      "| Active mass loading                    |      0.102371    |             1 |          0         |\n",
      "| Pore volume                            |      0.0818256   |             1 |          0         |\n",
      "| O                                      |      0.0770964   |             1 |          0         |\n",
      "| Rmic/mes                               |      0.0654372   |             1 |          0         |\n",
      "| ID/IG                                  |      0.0276997   |             1 |          0         |\n",
      "| Current collector_nickel foam          |      0.0047486   |             1 |          0         |\n",
      "| Current collector_stainless-steel mesh |      0.00411284  |             1 |          0         |\n",
      "| Potential window                       |      0.00277981  |             1 |          0         |\n",
      "| Current collector_freestanding         |      0.00245389  |             1 |          0         |\n",
      "| P                                      |      0.00142375  |             1 |          0         |\n",
      "| B                                      |      0.00129789  |             1 |          0         |\n",
      "| Current collector_carbon cloth         |      0.00101287  |             1 |          0         |\n",
      "| Current collector_Titanium foil        |      0.000615004 |             1 |          0         |\n",
      "| Electrolyte_1M ZnSO4                   |      0.000571513 |             2 |          0         |\n",
      "| Electrolyte_1M Zn(CF3SO3)2             |      0.000302631 |             1 |          0         |\n",
      "| Electrolyte_2M ZnSO4                   |      0.000187302 |             3 |          0         |\n",
      "| S                                      |      0.000109186 |             4 |          0         |\n",
      "| Electrolyte_3M Zn(CF3SO3)2             |      5.44028e-05 |             5 |          0         |\n",
      "| Current collector_stainless steel      |      1.08873e-05 |             6 |          0         |\n",
      "| Current collector_Nickel foam          |      0           |             8 |          0         |\n",
      "| Current collector_graphite paper       |      0           |             9 |          0         |\n",
      "| Current collector_stainless-steel foil |      0           |             7 |          0         |\n"
     ]
    }
   ],
   "execution_count": 7
  },
  {
   "metadata": {
    "ExecuteTime": {
     "end_time": "2024-04-19T07:21:40.921425Z",
     "start_time": "2024-04-19T07:21:40.904722Z"
    }
   },
   "cell_type": "code",
   "source": [
    "# 从特征重要性DataFrame中获取GBM最重要的8个特征\n",
    "top_8_features = results_df.sort_values(by='GBM Importance', ascending=False)['Feature'].head(8).tolist()\n",
    "\n",
    "# 添加目标值列的名称\n",
    "columns_to_keep = top_8_features + ['target']\n",
    "\n",
    "# 从原始数据集中提取这些列\n",
    "new_data = data[columns_to_keep]\n",
    "new_data"
   ],
   "id": "8219d5a00aed3a67",
   "outputs": [
    {
     "data": {
      "text/plain": [
       "     Current density  Specific surface area     N  Active mass loading  \\\n",
       "0               0.10                 1546.1  3.52                  1.0   \n",
       "1               0.10                 1315.2  3.79                  1.0   \n",
       "2               0.10                 1140.8  3.29                  2.5   \n",
       "3               0.25                 1140.8  3.29                  2.5   \n",
       "4               0.50                 1140.8  3.29                  2.5   \n",
       "..               ...                    ...   ...                  ...   \n",
       "639             5.00                 3415.3  1.98                  1.0   \n",
       "640            10.00                 3415.3  1.98                  1.0   \n",
       "641            20.00                 3415.3  1.98                  1.0   \n",
       "642            30.00                 3415.3  1.98                  1.0   \n",
       "643            60.00                 3415.3  1.98                  1.0   \n",
       "\n",
       "     Pore volume      O   Rmic/mes  ID/IG  target  \n",
       "0         0.5753   7.15  14.558000  1.029    85.0  \n",
       "1         0.5116   8.12   9.330000  1.038   114.0  \n",
       "2         0.8600  21.55   0.157000  0.820    90.2  \n",
       "3         0.8600  21.55   0.157000  0.820    86.3  \n",
       "4         0.8600  21.55   0.157000  0.820    79.9  \n",
       "..           ...    ...        ...    ...     ...  \n",
       "639       2.4820   6.93   0.190408  2.820   134.0  \n",
       "640       2.4820   6.93   0.190408  2.820   125.7  \n",
       "641       2.4820   6.93   0.190408  2.820   118.9  \n",
       "642       2.4820   6.93   0.190408  2.820   114.5  \n",
       "643       2.4820   6.93   0.190408  2.820   105.9  \n",
       "\n",
       "[644 rows x 9 columns]"
      ],
      "text/html": [
       "<div>\n",
       "<style scoped>\n",
       "    .dataframe tbody tr th:only-of-type {\n",
       "        vertical-align: middle;\n",
       "    }\n",
       "\n",
       "    .dataframe tbody tr th {\n",
       "        vertical-align: top;\n",
       "    }\n",
       "\n",
       "    .dataframe thead th {\n",
       "        text-align: right;\n",
       "    }\n",
       "</style>\n",
       "<table border=\"1\" class=\"dataframe\">\n",
       "  <thead>\n",
       "    <tr style=\"text-align: right;\">\n",
       "      <th></th>\n",
       "      <th>Current density</th>\n",
       "      <th>Specific surface area</th>\n",
       "      <th>N</th>\n",
       "      <th>Active mass loading</th>\n",
       "      <th>Pore volume</th>\n",
       "      <th>O</th>\n",
       "      <th>Rmic/mes</th>\n",
       "      <th>ID/IG</th>\n",
       "      <th>target</th>\n",
       "    </tr>\n",
       "  </thead>\n",
       "  <tbody>\n",
       "    <tr>\n",
       "      <th>0</th>\n",
       "      <td>0.10</td>\n",
       "      <td>1546.1</td>\n",
       "      <td>3.52</td>\n",
       "      <td>1.0</td>\n",
       "      <td>0.5753</td>\n",
       "      <td>7.15</td>\n",
       "      <td>14.558000</td>\n",
       "      <td>1.029</td>\n",
       "      <td>85.0</td>\n",
       "    </tr>\n",
       "    <tr>\n",
       "      <th>1</th>\n",
       "      <td>0.10</td>\n",
       "      <td>1315.2</td>\n",
       "      <td>3.79</td>\n",
       "      <td>1.0</td>\n",
       "      <td>0.5116</td>\n",
       "      <td>8.12</td>\n",
       "      <td>9.330000</td>\n",
       "      <td>1.038</td>\n",
       "      <td>114.0</td>\n",
       "    </tr>\n",
       "    <tr>\n",
       "      <th>2</th>\n",
       "      <td>0.10</td>\n",
       "      <td>1140.8</td>\n",
       "      <td>3.29</td>\n",
       "      <td>2.5</td>\n",
       "      <td>0.8600</td>\n",
       "      <td>21.55</td>\n",
       "      <td>0.157000</td>\n",
       "      <td>0.820</td>\n",
       "      <td>90.2</td>\n",
       "    </tr>\n",
       "    <tr>\n",
       "      <th>3</th>\n",
       "      <td>0.25</td>\n",
       "      <td>1140.8</td>\n",
       "      <td>3.29</td>\n",
       "      <td>2.5</td>\n",
       "      <td>0.8600</td>\n",
       "      <td>21.55</td>\n",
       "      <td>0.157000</td>\n",
       "      <td>0.820</td>\n",
       "      <td>86.3</td>\n",
       "    </tr>\n",
       "    <tr>\n",
       "      <th>4</th>\n",
       "      <td>0.50</td>\n",
       "      <td>1140.8</td>\n",
       "      <td>3.29</td>\n",
       "      <td>2.5</td>\n",
       "      <td>0.8600</td>\n",
       "      <td>21.55</td>\n",
       "      <td>0.157000</td>\n",
       "      <td>0.820</td>\n",
       "      <td>79.9</td>\n",
       "    </tr>\n",
       "    <tr>\n",
       "      <th>...</th>\n",
       "      <td>...</td>\n",
       "      <td>...</td>\n",
       "      <td>...</td>\n",
       "      <td>...</td>\n",
       "      <td>...</td>\n",
       "      <td>...</td>\n",
       "      <td>...</td>\n",
       "      <td>...</td>\n",
       "      <td>...</td>\n",
       "    </tr>\n",
       "    <tr>\n",
       "      <th>639</th>\n",
       "      <td>5.00</td>\n",
       "      <td>3415.3</td>\n",
       "      <td>1.98</td>\n",
       "      <td>1.0</td>\n",
       "      <td>2.4820</td>\n",
       "      <td>6.93</td>\n",
       "      <td>0.190408</td>\n",
       "      <td>2.820</td>\n",
       "      <td>134.0</td>\n",
       "    </tr>\n",
       "    <tr>\n",
       "      <th>640</th>\n",
       "      <td>10.00</td>\n",
       "      <td>3415.3</td>\n",
       "      <td>1.98</td>\n",
       "      <td>1.0</td>\n",
       "      <td>2.4820</td>\n",
       "      <td>6.93</td>\n",
       "      <td>0.190408</td>\n",
       "      <td>2.820</td>\n",
       "      <td>125.7</td>\n",
       "    </tr>\n",
       "    <tr>\n",
       "      <th>641</th>\n",
       "      <td>20.00</td>\n",
       "      <td>3415.3</td>\n",
       "      <td>1.98</td>\n",
       "      <td>1.0</td>\n",
       "      <td>2.4820</td>\n",
       "      <td>6.93</td>\n",
       "      <td>0.190408</td>\n",
       "      <td>2.820</td>\n",
       "      <td>118.9</td>\n",
       "    </tr>\n",
       "    <tr>\n",
       "      <th>642</th>\n",
       "      <td>30.00</td>\n",
       "      <td>3415.3</td>\n",
       "      <td>1.98</td>\n",
       "      <td>1.0</td>\n",
       "      <td>2.4820</td>\n",
       "      <td>6.93</td>\n",
       "      <td>0.190408</td>\n",
       "      <td>2.820</td>\n",
       "      <td>114.5</td>\n",
       "    </tr>\n",
       "    <tr>\n",
       "      <th>643</th>\n",
       "      <td>60.00</td>\n",
       "      <td>3415.3</td>\n",
       "      <td>1.98</td>\n",
       "      <td>1.0</td>\n",
       "      <td>2.4820</td>\n",
       "      <td>6.93</td>\n",
       "      <td>0.190408</td>\n",
       "      <td>2.820</td>\n",
       "      <td>105.9</td>\n",
       "    </tr>\n",
       "  </tbody>\n",
       "</table>\n",
       "<p>644 rows × 9 columns</p>\n",
       "</div>"
      ]
     },
     "execution_count": 9,
     "metadata": {},
     "output_type": "execute_result"
    }
   ],
   "execution_count": 9
  },
  {
   "metadata": {
    "ExecuteTime": {
     "end_time": "2024-04-19T07:22:18.718395Z",
     "start_time": "2024-04-19T07:22:18.711215Z"
    }
   },
   "cell_type": "code",
   "source": [
    "# 保存新数据集\n",
    "new_data.to_csv('../data/processed/data_8features.csv', index=False)"
   ],
   "id": "95c4f0875d7492b3",
   "outputs": [],
   "execution_count": 10
  },
  {
   "metadata": {},
   "cell_type": "code",
   "outputs": [],
   "execution_count": null,
   "source": "",
   "id": "d205800b747663d8"
  }
 ],
 "metadata": {
  "kernelspec": {
   "display_name": "sklearn-env",
   "language": "python",
   "name": "sklearn-env"
  },
  "language_info": {
   "codemirror_mode": {
    "name": "ipython",
    "version": 2
   },
   "file_extension": ".py",
   "mimetype": "text/x-python",
   "name": "python",
   "nbconvert_exporter": "python",
   "pygments_lexer": "ipython2",
   "version": "2.7.6"
  }
 },
 "nbformat": 4,
 "nbformat_minor": 5
}
